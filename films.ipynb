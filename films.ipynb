{
 "cells": [
  {
   "cell_type": "code",
   "execution_count": null,
   "metadata": {},
   "outputs": [],
   "source": [
    "import numpy as np\n",
    "import pandas as pd\n",
    "import matplotlib.pyplot as plt"
   ]
  },
  {
   "cell_type": "markdown",
   "metadata": {},
   "source": [
    "## Dataset"
   ]
  },
  {
   "cell_type": "markdown",
   "metadata": {},
   "source": [
    "Complet dataset"
   ]
  },
  {
   "cell_type": "code",
   "execution_count": null,
   "metadata": {},
   "outputs": [],
   "source": [
    "dataset_path = \"dataset/\"\n",
    "film_data_path = dataset_path + \"films.csv\"\n",
    "films = pd.read_csv(film_data_path)\n",
    "films"
   ]
  },
  {
   "cell_type": "markdown",
   "metadata": {},
   "source": [
    "Target film: The Imitation Game"
   ]
  },
  {
   "cell_type": "code",
   "execution_count": null,
   "metadata": {},
   "outputs": [],
   "source": [
    "target_film = films.loc[films[\"Film\"] == \"The Imitation Game\"]\n",
    "target_film"
   ]
  },
  {
   "cell_type": "markdown",
   "metadata": {},
   "source": [
    "Other films"
   ]
  },
  {
   "cell_type": "code",
   "execution_count": null,
   "metadata": {},
   "outputs": [],
   "source": [
    "new_films = films.loc[films[\"Film\"] != \"The Imitation Game\"]\n",
    "new_films"
   ]
  },
  {
   "cell_type": "code",
   "execution_count": null,
   "metadata": {},
   "outputs": [],
   "source": [
    "new_films_values = new_films.drop(\"Film\", axis=1)\n",
    "new_films_values = new_films_values.values\n",
    "new_films_values"
   ]
  },
  {
   "cell_type": "code",
   "execution_count": null,
   "metadata": {},
   "outputs": [],
   "source": [
    "target_film_values = target_film.drop(\"Film\", axis=1)\n",
    "target_film_values = target_film_values.values\n",
    "target_film_values"
   ]
  },
  {
   "cell_type": "code",
   "execution_count": null,
   "metadata": {},
   "outputs": [],
   "source": [
    "euclidean_distances = np.linalg.norm(new_films_values - target_film_values, axis=1)\n",
    "euclidean_distances"
   ]
  },
  {
   "cell_type": "code",
   "execution_count": null,
   "metadata": {},
   "outputs": [],
   "source": [
    "def manhattan_distance(a, b):\n",
    "    return np.array(list(map(np.sum,np.array(list(map(np.abs, a - b))))))\n",
    "    \n",
    "manhattan_distances = manhattan_distance(new_films_values, target_film_values[0])\n",
    "manhattan_distances"
   ]
  },
  {
   "cell_type": "code",
   "execution_count": null,
   "metadata": {},
   "outputs": [],
   "source": [
    "k = 6\n",
    "euclidean_nearest_neighbor_ids = euclidean_distances.argsort()[:k]\n",
    "euclidean_nearest_neighbor_ids"
   ]
  },
  {
   "cell_type": "code",
   "execution_count": null,
   "metadata": {},
   "outputs": [],
   "source": [
    "k = 6\n",
    "manhattan_nearest_neighbor_ids = manhattan_distances.argsort()[:k]\n",
    "manhattan_nearest_neighbor_ids"
   ]
  },
  {
   "cell_type": "code",
   "execution_count": null,
   "metadata": {},
   "outputs": [],
   "source": [
    "new_film_euclidean = new_films.copy()\n",
    "new_film_euclidean.insert(len(new_film_euclidean.columns), \"Euklidsko rastojanje\", euclidean_distances)\n",
    "new_film_euclidean.sort_values(by=[\"Euklidsko rastojanje\"], ascending=False)"
   ]
  },
  {
   "cell_type": "code",
   "execution_count": null,
   "metadata": {},
   "outputs": [],
   "source": [
    "new_film_manhattan = new_films.copy()\n",
    "new_film_manhattan.insert(len(new_film_manhattan.columns), \"Menhetn rastojanje\", manhattan_distances)\n",
    "new_film_manhattan.sort_values(by=[\"Menhetn rastojanje\"], ascending=False)"
   ]
  },
  {
   "cell_type": "markdown",
   "metadata": {},
   "source": [
    "Normalization"
   ]
  },
  {
   "cell_type": "code",
   "execution_count": null,
   "metadata": {},
   "outputs": [],
   "source": [
    "imdb_min = np.min(films[\"IMDB\"].values)\n",
    "imdb_max = np.max(films[\"IMDB\"].values)\n",
    "print(imdb_min, imdb_max)\n"
   ]
  },
  {
   "cell_type": "code",
   "execution_count": null,
   "metadata": {},
   "outputs": [],
   "source": [
    "target_film_imdb_values_normalized = target_film[\"IMDB\"].values\n",
    "target_film_imdb_values_normalized = (target_film_imdb_values_normalized - imdb_min) / (imdb_max - imdb_min)\n",
    "target_film_imdb_values_normalized"
   ]
  },
  {
   "cell_type": "code",
   "execution_count": 321,
   "metadata": {},
   "outputs": [
    {
     "data": {
      "text/plain": [
       "array([0.62068966, 0.79310345, 0.82758621, 1.        , 0.31034483,\n",
       "       0.5862069 , 0.        , 0.68965517, 0.79310345, 0.51724138,\n",
       "       0.93103448, 0.65517241])"
      ]
     },
     "execution_count": 321,
     "metadata": {},
     "output_type": "execute_result"
    }
   ],
   "source": [
    "new_films_imdb_values_normalized = new_films[\"IMDB\"].values\n",
    "new_films_imdb_values_normalized = (new_films_imdb_values_normalized - imdb_min) / (imdb_max - imdb_min)\n",
    "new_films_imdb_values_normalized"
   ]
  },
  {
   "cell_type": "code",
   "execution_count": 322,
   "metadata": {},
   "outputs": [
    {
     "data": {
      "text/html": [
       "<div>\n",
       "<style scoped>\n",
       "    .dataframe tbody tr th:only-of-type {\n",
       "        vertical-align: middle;\n",
       "    }\n",
       "\n",
       "    .dataframe tbody tr th {\n",
       "        vertical-align: top;\n",
       "    }\n",
       "\n",
       "    .dataframe thead th {\n",
       "        text-align: right;\n",
       "    }\n",
       "</style>\n",
       "<table border=\"1\" class=\"dataframe\">\n",
       "  <thead>\n",
       "    <tr style=\"text-align: right;\">\n",
       "      <th></th>\n",
       "      <th>Film</th>\n",
       "      <th>IMDB</th>\n",
       "      <th>Biografski</th>\n",
       "      <th>Drama</th>\n",
       "      <th>Triler</th>\n",
       "      <th>Komedija</th>\n",
       "      <th>Misterija</th>\n",
       "    </tr>\n",
       "  </thead>\n",
       "  <tbody>\n",
       "    <tr>\n",
       "      <th>1</th>\n",
       "      <td>Ex Machina</td>\n",
       "      <td>0.620690</td>\n",
       "      <td>0</td>\n",
       "      <td>1</td>\n",
       "      <td>0</td>\n",
       "      <td>0</td>\n",
       "      <td>1</td>\n",
       "    </tr>\n",
       "    <tr>\n",
       "      <th>2</th>\n",
       "      <td>A Beautiful Mind</td>\n",
       "      <td>0.793103</td>\n",
       "      <td>1</td>\n",
       "      <td>1</td>\n",
       "      <td>0</td>\n",
       "      <td>0</td>\n",
       "      <td>0</td>\n",
       "    </tr>\n",
       "    <tr>\n",
       "      <th>3</th>\n",
       "      <td>Good Will Hunting</td>\n",
       "      <td>0.827586</td>\n",
       "      <td>0</td>\n",
       "      <td>1</td>\n",
       "      <td>0</td>\n",
       "      <td>0</td>\n",
       "      <td>0</td>\n",
       "    </tr>\n",
       "    <tr>\n",
       "      <th>4</th>\n",
       "      <td>Forrest Gump</td>\n",
       "      <td>1.000000</td>\n",
       "      <td>0</td>\n",
       "      <td>1</td>\n",
       "      <td>0</td>\n",
       "      <td>0</td>\n",
       "      <td>0</td>\n",
       "    </tr>\n",
       "    <tr>\n",
       "      <th>5</th>\n",
       "      <td>21</td>\n",
       "      <td>0.310345</td>\n",
       "      <td>0</td>\n",
       "      <td>1</td>\n",
       "      <td>0</td>\n",
       "      <td>0</td>\n",
       "      <td>0</td>\n",
       "    </tr>\n",
       "    <tr>\n",
       "      <th>6</th>\n",
       "      <td>Gifted</td>\n",
       "      <td>0.586207</td>\n",
       "      <td>0</td>\n",
       "      <td>1</td>\n",
       "      <td>0</td>\n",
       "      <td>0</td>\n",
       "      <td>0</td>\n",
       "    </tr>\n",
       "    <tr>\n",
       "      <th>7</th>\n",
       "      <td>Travelling Salesman</td>\n",
       "      <td>0.000000</td>\n",
       "      <td>0</td>\n",
       "      <td>1</td>\n",
       "      <td>0</td>\n",
       "      <td>0</td>\n",
       "      <td>1</td>\n",
       "    </tr>\n",
       "    <tr>\n",
       "      <th>8</th>\n",
       "      <td>Avatar</td>\n",
       "      <td>0.689655</td>\n",
       "      <td>0</td>\n",
       "      <td>0</td>\n",
       "      <td>0</td>\n",
       "      <td>0</td>\n",
       "      <td>0</td>\n",
       "    </tr>\n",
       "    <tr>\n",
       "      <th>9</th>\n",
       "      <td>The Wolf of Wall Street</td>\n",
       "      <td>0.793103</td>\n",
       "      <td>1</td>\n",
       "      <td>0</td>\n",
       "      <td>0</td>\n",
       "      <td>1</td>\n",
       "      <td>0</td>\n",
       "    </tr>\n",
       "    <tr>\n",
       "      <th>10</th>\n",
       "      <td>A Time To Kill</td>\n",
       "      <td>0.517241</td>\n",
       "      <td>0</td>\n",
       "      <td>1</td>\n",
       "      <td>1</td>\n",
       "      <td>0</td>\n",
       "      <td>0</td>\n",
       "    </tr>\n",
       "    <tr>\n",
       "      <th>11</th>\n",
       "      <td>Interstellar</td>\n",
       "      <td>0.931034</td>\n",
       "      <td>0</td>\n",
       "      <td>1</td>\n",
       "      <td>0</td>\n",
       "      <td>0</td>\n",
       "      <td>0</td>\n",
       "    </tr>\n",
       "    <tr>\n",
       "      <th>12</th>\n",
       "      <td>The Wind Rises</td>\n",
       "      <td>0.655172</td>\n",
       "      <td>1</td>\n",
       "      <td>1</td>\n",
       "      <td>0</td>\n",
       "      <td>0</td>\n",
       "      <td>0</td>\n",
       "    </tr>\n",
       "  </tbody>\n",
       "</table>\n",
       "</div>"
      ],
      "text/plain": [
       "                       Film      IMDB  Biografski  Drama  Triler  Komedija  \\\n",
       "1                Ex Machina  0.620690           0      1       0         0   \n",
       "2          A Beautiful Mind  0.793103           1      1       0         0   \n",
       "3         Good Will Hunting  0.827586           0      1       0         0   \n",
       "4              Forrest Gump  1.000000           0      1       0         0   \n",
       "5                        21  0.310345           0      1       0         0   \n",
       "6                    Gifted  0.586207           0      1       0         0   \n",
       "7       Travelling Salesman  0.000000           0      1       0         0   \n",
       "8                    Avatar  0.689655           0      0       0         0   \n",
       "9   The Wolf of Wall Street  0.793103           1      0       0         1   \n",
       "10           A Time To Kill  0.517241           0      1       1         0   \n",
       "11             Interstellar  0.931034           0      1       0         0   \n",
       "12           The Wind Rises  0.655172           1      1       0         0   \n",
       "\n",
       "    Misterija  \n",
       "1           1  \n",
       "2           0  \n",
       "3           0  \n",
       "4           0  \n",
       "5           0  \n",
       "6           0  \n",
       "7           1  \n",
       "8           0  \n",
       "9           0  \n",
       "10          0  \n",
       "11          0  \n",
       "12          0  "
      ]
     },
     "execution_count": 322,
     "metadata": {},
     "output_type": "execute_result"
    }
   ],
   "source": [
    "new_films_normalized = new_films.drop(\"IMDB\", axis=1)\n",
    "new_films_normalized.insert(1, \"IMDB\", new_films_imdb_values_normalized)\n",
    "new_films_normalized"
   ]
  },
  {
   "cell_type": "code",
   "execution_count": 323,
   "metadata": {},
   "outputs": [
    {
     "data": {
      "text/html": [
       "<div>\n",
       "<style scoped>\n",
       "    .dataframe tbody tr th:only-of-type {\n",
       "        vertical-align: middle;\n",
       "    }\n",
       "\n",
       "    .dataframe tbody tr th {\n",
       "        vertical-align: top;\n",
       "    }\n",
       "\n",
       "    .dataframe thead th {\n",
       "        text-align: right;\n",
       "    }\n",
       "</style>\n",
       "<table border=\"1\" class=\"dataframe\">\n",
       "  <thead>\n",
       "    <tr style=\"text-align: right;\">\n",
       "      <th></th>\n",
       "      <th>Film</th>\n",
       "      <th>IMDB</th>\n",
       "      <th>Biografski</th>\n",
       "      <th>Drama</th>\n",
       "      <th>Triler</th>\n",
       "      <th>Komedija</th>\n",
       "      <th>Misterija</th>\n",
       "    </tr>\n",
       "  </thead>\n",
       "  <tbody>\n",
       "    <tr>\n",
       "      <th>0</th>\n",
       "      <td>The Imitation Game</td>\n",
       "      <td>0.724138</td>\n",
       "      <td>1</td>\n",
       "      <td>1</td>\n",
       "      <td>1</td>\n",
       "      <td>0</td>\n",
       "      <td>0</td>\n",
       "    </tr>\n",
       "  </tbody>\n",
       "</table>\n",
       "</div>"
      ],
      "text/plain": [
       "                 Film      IMDB  Biografski  Drama  Triler  Komedija  \\\n",
       "0  The Imitation Game  0.724138           1      1       1         0   \n",
       "\n",
       "   Misterija  \n",
       "0          0  "
      ]
     },
     "execution_count": 323,
     "metadata": {},
     "output_type": "execute_result"
    }
   ],
   "source": [
    "target_film_normalized = target_film.drop(\"IMDB\", axis=1)\n",
    "target_film_normalized.insert(1, \"IMDB\", target_film_imdb_values_normalized)\n",
    "target_film_normalized"
   ]
  },
  {
   "cell_type": "code",
   "execution_count": 329,
   "metadata": {},
   "outputs": [
    {
     "data": {
      "text/plain": [
       "array([['Ex Machina', 0.6206896551724137, 0, 1, 0, 0, 1],\n",
       "       ['A Beautiful Mind', 0.7931034482758617, 1, 1, 0, 0, 0],\n",
       "       ['Good Will Hunting', 0.8275862068965517, 0, 1, 0, 0, 0],\n",
       "       ['Forrest Gump', 1.0, 0, 1, 0, 0, 0],\n",
       "       ['21', 0.3103448275862067, 0, 1, 0, 0, 0],\n",
       "       ['Gifted', 0.5862068965517239, 0, 1, 0, 0, 0],\n",
       "       ['Travelling Salesman', 0.0, 0, 1, 0, 0, 1],\n",
       "       ['Avatar', 0.689655172413793, 0, 0, 0, 0, 0],\n",
       "       ['The Wolf of Wall Street', 0.7931034482758617, 1, 0, 0, 1, 0],\n",
       "       ['A Time To Kill', 0.5172413793103448, 0, 1, 1, 0, 0],\n",
       "       ['Interstellar', 0.9310344827586203, 0, 1, 0, 0, 0],\n",
       "       ['The Wind Rises', 0.6551724137931032, 1, 1, 0, 0, 0]],\n",
       "      dtype=object)"
      ]
     },
     "execution_count": 329,
     "metadata": {},
     "output_type": "execute_result"
    }
   ],
   "source": [
    "new_films_values_normalized = new_films_normalized.drop(\"Film\", axis=1)\n",
    "new_films_values_normalized = new_films_normalized.values\n",
    "new_films_values_normalized"
   ]
  },
  {
   "cell_type": "code",
   "execution_count": null,
   "metadata": {},
   "outputs": [],
   "source": [
    "target_film_values_normalized = target_film_normalized.drop(\"Film\", axis=1)\n",
    "target_film_values_normalized = target_film_normalized.values\n"
   ]
  },
  {
   "cell_type": "code",
   "execution_count": 327,
   "metadata": {},
   "outputs": [
    {
     "ename": "TypeError",
     "evalue": "unsupported operand type(s) for -: 'str' and 'str'",
     "output_type": "error",
     "traceback": [
      "\u001b[1;31m---------------------------------------------------------------------------\u001b[0m",
      "\u001b[1;31mTypeError\u001b[0m                                 Traceback (most recent call last)",
      "\u001b[1;32m~\\AppData\\Local\\Temp/ipykernel_31008/1277432148.py\u001b[0m in \u001b[0;36m<module>\u001b[1;34m\u001b[0m\n\u001b[1;32m----> 1\u001b[1;33m \u001b[0meuclidean_distances_normalized\u001b[0m \u001b[1;33m=\u001b[0m \u001b[0mnp\u001b[0m\u001b[1;33m.\u001b[0m\u001b[0mlinalg\u001b[0m\u001b[1;33m.\u001b[0m\u001b[0mnorm\u001b[0m\u001b[1;33m(\u001b[0m\u001b[0mnew_films_values_normalized\u001b[0m \u001b[1;33m-\u001b[0m \u001b[0mtarget_film_values_normalized\u001b[0m\u001b[1;33m,\u001b[0m \u001b[0maxis\u001b[0m\u001b[1;33m=\u001b[0m\u001b[1;36m1\u001b[0m\u001b[1;33m)\u001b[0m\u001b[1;33m\u001b[0m\u001b[1;33m\u001b[0m\u001b[0m\n\u001b[0m\u001b[0;32m      2\u001b[0m \u001b[0meuclidean_distances_normalized\u001b[0m\u001b[1;33m\u001b[0m\u001b[1;33m\u001b[0m\u001b[0m\n\u001b[0;32m      3\u001b[0m \u001b[1;33m\u001b[0m\u001b[0m\n\u001b[0;32m      4\u001b[0m \u001b[0mmanhattan_distances_normalized\u001b[0m \u001b[1;33m=\u001b[0m \u001b[0mmanhattan_distance\u001b[0m\u001b[1;33m(\u001b[0m\u001b[0mnew_films_values_normalized\u001b[0m\u001b[1;33m,\u001b[0m \u001b[0mtarget_film_values_normalized\u001b[0m\u001b[1;33m[\u001b[0m\u001b[1;36m0\u001b[0m\u001b[1;33m]\u001b[0m\u001b[1;33m)\u001b[0m\u001b[1;33m\u001b[0m\u001b[1;33m\u001b[0m\u001b[0m\n\u001b[0;32m      5\u001b[0m \u001b[0mmanhattan_distances_normalized\u001b[0m\u001b[1;33m\u001b[0m\u001b[1;33m\u001b[0m\u001b[0m\n",
      "\u001b[1;31mTypeError\u001b[0m: unsupported operand type(s) for -: 'str' and 'str'"
     ]
    }
   ],
   "source": [
    "euclidean_distances_normalized = np.linalg.norm(new_films_values_normalized - target_film_values_normalized, axis=1)\n",
    "euclidean_distances_normalized\n",
    "\n",
    "manhattan_distances_normalized = manhattan_distance(new_films_values_normalized, target_film_values_normalized[0])\n",
    "manhattan_distances_normalized\n"
   ]
  },
  {
   "cell_type": "code",
   "execution_count": 314,
   "metadata": {},
   "outputs": [
    {
     "data": {
      "text/plain": [
       "array([ 1, 11,  9,  2,  5, 10], dtype=int64)"
      ]
     },
     "execution_count": 314,
     "metadata": {},
     "output_type": "execute_result"
    }
   ],
   "source": [
    "k = 6\n",
    "euclidean_nearest_neighbor_normalized_ids = euclidean_distances_normalized.argsort()[:k]\n",
    "euclidean_nearest_neighbor_normalized_ids\n"
   ]
  },
  {
   "cell_type": "code",
   "execution_count": 315,
   "metadata": {},
   "outputs": [
    {
     "data": {
      "text/plain": [
       "array([ 1, 11,  9,  2,  5, 10], dtype=int64)"
      ]
     },
     "execution_count": 315,
     "metadata": {},
     "output_type": "execute_result"
    }
   ],
   "source": [
    "k = 6\n",
    "manhattan_nearest_neighbor_normalized_ids = manhattan_distances_normalized.argsort()[:k]\n",
    "manhattan_nearest_neighbor_normalized_ids"
   ]
  },
  {
   "cell_type": "code",
   "execution_count": null,
   "metadata": {},
   "outputs": [],
   "source": [
    "new_film_euclidean = new_films.copy()\n",
    "new_film_euclidean.insert(len(new_film_euclidean.columns), \"Euklidsko rastojanje\", euclidean_distances)\n",
    "new_film_euclidean.sort_values(by=[\"Euklidsko rastojanje\"], ascending=False)"
   ]
  },
  {
   "cell_type": "code",
   "execution_count": null,
   "metadata": {},
   "outputs": [],
   "source": [
    "new_film_manhattan = new_films.copy()\n",
    "new_film_manhattan.insert(len(new_film_manhattan.columns), \"Menhetn rastojanje\", manhattan_distances)\n",
    "new_film_manhattan.sort_values(by=[\"Menhetn rastojanje\"], ascending=False)"
   ]
  }
 ],
 "metadata": {
  "interpreter": {
   "hash": "e032df77192edad6a6bb48fb5c48af0053ec18d334a4fa08da8a436c45f7ed29"
  },
  "kernelspec": {
   "display_name": "Python 3.9.7 64-bit (windows store)",
   "language": "python",
   "name": "python3"
  },
  "language_info": {
   "codemirror_mode": {
    "name": "ipython",
    "version": 3
   },
   "file_extension": ".py",
   "mimetype": "text/x-python",
   "name": "python",
   "nbconvert_exporter": "python",
   "pygments_lexer": "ipython3",
   "version": "3.9.9"
  },
  "orig_nbformat": 4
 },
 "nbformat": 4,
 "nbformat_minor": 2
}
